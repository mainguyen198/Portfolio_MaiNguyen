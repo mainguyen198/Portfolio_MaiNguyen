{
  "nbformat": 4,
  "nbformat_minor": 0,
  "metadata": {
    "colab": {
      "provenance": [],
      "authorship_tag": "ABX9TyMRFWvXMylzlkSxvWNgvBr3",
      "include_colab_link": true
    },
    "kernelspec": {
      "name": "python3",
      "display_name": "Python 3"
    },
    "language_info": {
      "name": "python"
    }
  },
  "cells": [
    {
      "cell_type": "markdown",
      "metadata": {
        "id": "view-in-github",
        "colab_type": "text"
      },
      "source": [
        "<a href=\"https://colab.research.google.com/github/mainguyen198/Portfolio_MaiNguyen/blob/main/web_scraping.ipynb\" target=\"_parent\"><img src=\"https://colab.research.google.com/assets/colab-badge.svg\" alt=\"Open In Colab\"/></a>"
      ]
    },
    {
      "cell_type": "markdown",
      "source": [
        "# Web scraping\n",
        "\n"
      ],
      "metadata": {
        "id": "Wi7JN7x1a87z"
      }
    },
    {
      "cell_type": "markdown",
      "source": [
        "### I am using BeautifulSoup (bs4) library to pull the headline, article summary, and article links from the news website: https://bbc.com/news/business. This skill will be helpul for an analyst to keep up-to-date with current events and industry trends."
      ],
      "metadata": {
        "id": "MM9feHKhEszr"
      }
    },
    {
      "cell_type": "code",
      "source": [
        "from bs4 import BeautifulSoup # to scrape the data\n",
        "import requests # to get access to the website\n",
        "import csv # to save the scraped data into a csv file"
      ],
      "metadata": {
        "id": "bBDjAK6br4mg"
      },
      "execution_count": null,
      "outputs": []
    },
    {
      "cell_type": "code",
      "source": [
        "source = requests.get('https://www.bbc.com/business').text\n",
        "soup = BeautifulSoup(source, 'lxml')\n",
        "print(soup.prettify()) # the method .prettify() renders the html codes in a readable format"
      ],
      "metadata": {
        "id": "8vmC82x5SwVo"
      },
      "execution_count": null,
      "outputs": []
    },
    {
      "cell_type": "code",
      "source": [
        "# Print the headline\n",
        "article=soup.find('article') # to find the article tag\n",
        "headline=article.h3.a.text # print the headline using .text attribute\n",
        "print(headline)"
      ],
      "metadata": {
        "colab": {
          "base_uri": "https://localhost:8080/"
        },
        "id": "4da3rPRtb5rm",
        "outputId": "724d4ee6-32b7-4cc5-9861-8f9830ee5e01"
      },
      "execution_count": null,
      "outputs": [
        {
          "output_type": "stream",
          "name": "stdout",
          "text": [
            "Aslef train drivers announce new strike date\n"
          ]
        }
      ]
    },
    {
      "cell_type": "code",
      "source": [
        "# Print the article summary\n",
        "summary=article.find('p', class_='lx-stream-related-story--summary qa-story-summary').text\n",
        "print(summary)"
      ],
      "metadata": {
        "colab": {
          "base_uri": "https://localhost:8080/"
        },
        "id": "GW8uFp8QyKXs",
        "outputId": "0a9db691-929d-4d77-8bfd-3ec7cb34f19f"
      },
      "execution_count": null,
      "outputs": [
        {
          "output_type": "stream",
          "name": "stdout",
          "text": [
            "Drivers will walk out on 1 September and refuse to work overtime on 2 September, the union says.\n"
          ]
        }
      ]
    },
    {
      "cell_type": "code",
      "source": [
        "# Find the article link withing the anchor tags \"a\"\n",
        "art_link=article.find('a', class_='qa-heading-link lx-stream-post__header-link')['href']\n",
        "full_link=f'https://bbc.com{art_link}'\n",
        "print(full_link)"
      ],
      "metadata": {
        "colab": {
          "base_uri": "https://localhost:8080/"
        },
        "id": "B6jCRfAz3E2b",
        "outputId": "9a8a73a2-658b-4eb1-b48c-b9757ea69c5f"
      },
      "execution_count": null,
      "outputs": [
        {
          "output_type": "stream",
          "name": "stdout",
          "text": [
            "https://bbc.com/news/business-66544391\n"
          ]
        }
      ]
    },
    {
      "cell_type": "code",
      "source": [
        "# set up a csv file named \"web_scrape.csv\" to save the result\n",
        "csv_file=open('web_scrape.csv', 'w')\n",
        "csv_writer=csv.writer(csv_file)\n",
        "csv_writer.writerow(['headline','summary','article_link'])"
      ],
      "metadata": {
        "colab": {
          "base_uri": "https://localhost:8080/"
        },
        "id": "LjG7ufT0aBhG",
        "outputId": "51c50754-10e3-4449-fc1a-b65b80f55979"
      },
      "execution_count": null,
      "outputs": [
        {
          "output_type": "execute_result",
          "data": {
            "text/plain": [
              "31"
            ]
          },
          "metadata": {},
          "execution_count": 21
        }
      ]
    },
    {
      "cell_type": "code",
      "source": [
        "# Use \"for loop\" to pull the data of headlines, summaries, and article links of all the articles in the webpage\n",
        "for article in soup.find_all('article'):\n",
        "#print(article.prettify())\n",
        "  headline=article.h3.a.text\n",
        "  print(headline)\n",
        "  summary=article.find('p', class_='lx-stream-related-story--summary qa-story-summary').text\n",
        "  print(summary)\n",
        "  # Use \"try - except\" to keep the codes running even when there's no article links found in the html code\n",
        "  try:\n",
        "    art_link=article.find('a', class_='qa-heading-link lx-stream-post__header-link')['href']\n",
        "    full_link=f'https://bbc.com{art_link}'\n",
        "  except Exception as e:\n",
        "    full_link = None\n",
        "\n",
        "  print(full_link)\n",
        "  print()\n",
        "\n",
        "  csv_writer.writerow([headline,summary,full_link])\n",
        "\n",
        "csv_file.close()"
      ],
      "metadata": {
        "colab": {
          "base_uri": "https://localhost:8080/"
        },
        "id": "bv1xeoRs050f",
        "outputId": "435e49ab-9b72-44cd-c5fb-ac63cbb302aa"
      },
      "execution_count": null,
      "outputs": [
        {
          "output_type": "stream",
          "name": "stdout",
          "text": [
            "Aslef train drivers announce new strike date\n",
            "Drivers will walk out on 1 September and refuse to work overtime on 2 September, the union says.\n",
            "https://bbc.com/news/business-66544391\n",
            "\n",
            "Construction firm collapses with loss of 180 jobs\n",
            "Allma Construction in Barrhead, East Renfrewshire, has blamed a downturn in the housing sector.\n",
            "https://bbc.com/news/uk-scotland-glasgow-west-66547943\n",
            "\n",
            "Shop sales hit by July's wet weather\n",
            "Retail sales fell by 1.2% following the poor weather with clothing sales proving a washout.\n",
            "https://bbc.com/news/business-66536000\n",
            "\n",
            "Energy bills predicted to drop in October\n",
            "Ofgem is poised to announce a small cut in its price cap next week, a consultancy firm forecasts.\n",
            "https://bbc.com/news/business-66542340\n",
            "\n",
            "China Evergrande files for US bankruptcy protection\n",
            "The move comes as fears grow over problems in the world's second largest economy.\n",
            "https://bbc.com/news/business-66540785\n",
            "\n",
            "Major construction company on brink of collapse\n",
            "Buckingham Group, which has worked on HS2 and at Anfield, blames \"extreme inflation\" for losses.\n",
            "https://bbc.com/news/uk-england-beds-bucks-herts-66532733\n",
            "\n",
            "Cash, cars and homes seized in $735m Singapore raids\n",
            "The operation was part of one of the city-state's biggest ever anti-money laundering investigations.\n",
            "https://bbc.com/news/business-66529632\n",
            "\n",
            "UK rents rise at highest rates since 2016\n",
            "Prices paid by UK renters rose by 5.3% on average in the year to July - the highest level seen since 2016.\n",
            "https://bbc.com/news/business-66521015\n",
            "\n",
            "Dismal weather hampers retail sales in Scotland\n",
            "Heavy rain and high inflation puts shoppers off spending in July, new sales data reveals.\n",
            "https://bbc.com/news/uk-scotland-66512637\n",
            "\n",
            "Vietnam EV maker valued at more than Ford or GM\n",
            "The share sale on the Nasdaq values VinFast at $85bn compared to Ford's $48bn and GM's $46bn.\n",
            "https://bbc.com/news/business-66517549\n",
            "\n",
            "Monzo on top of banking satisfaction rankings\n",
            "Although its score has dropped, the challenger bank leads a regulator's banking league table.\n",
            "https://bbc.com/news/business-66510162\n",
            "\n",
            "Call for Shell to rethink former HQ demolition\n",
            "The company says the landmark Aberdeen building is too old for someone to take it on - but others disagree.\n",
            "https://bbc.com/news/uk-scotland-north-east-orkney-shetland-66496192\n",
            "\n",
            "Wage surge raises prospect of further rate hike\n",
            "Regular pay grew at 7.8% but the data has increased the possibility of another interest rate rise.\n",
            "https://bbc.com/news/business-66501937\n",
            "\n",
            "Warning over interest-only mortgage shortfalls\n",
            "Some people do not realise they might not be able to clear their final debt, research suggests.\n",
            "https://bbc.com/news/business-66510157\n",
            "\n",
            "Russia hikes interest rates to 12% as rouble falls\n",
            "The Bank of Russia raises rates sharply in an attempt to boost the currency and lower inflation.\n",
            "https://bbc.com/news/business-66508154\n",
            "\n",
            "Japan economy gets major boost from weak currency\n",
            "The weakness of the yen has helped Japanese exporters as it makes their products cheaper overseas.\n",
            "https://bbc.com/news/business-66506126\n",
            "\n",
            "Booking.com owes hosts thousands in payments\n",
            "Scottish hosts say they have not been paid by the website for months and are considering legal action.\n",
            "https://bbc.com/news/uk-scotland-66502572\n",
            "\n",
            "Russian rouble falls to 16-month low\n",
            "The currency has been hit by rising imports and higher military spending for the Ukraine war.\n",
            "https://bbc.com/news/business-66496736\n",
            "\n",
            "L’Occitane shares jump as buyout on the cards\n",
            "The skincare chain has said its controlling shareholder is considering a potential deal to take it private.\n",
            "https://bbc.com/news/business-66495211\n",
            "\n",
            "Mortgage rates are falling but don't celebrate yet\n",
            "A number of lenders are cutting rates but experts say it may be too early to call it a turning point.\n",
            "https://bbc.com/news/business-66474680\n",
            "\n"
          ]
        }
      ]
    }
  ]
}
